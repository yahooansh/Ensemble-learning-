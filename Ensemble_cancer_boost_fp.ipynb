{
 "cells": [
  {
   "cell_type": "markdown",
   "id": "cd48f805",
   "metadata": {},
   "source": [
    "# Boosting Model"
   ]
  },
  {
   "cell_type": "markdown",
   "id": "7bb83daf",
   "metadata": {},
   "source": [
    "### Reading the Data"
   ]
  },
  {
   "cell_type": "code",
   "execution_count": 1,
   "id": "cce5021a",
   "metadata": {},
   "outputs": [],
   "source": [
    "import joblib\n",
    "import pandas as pd\n",
    "from sklearn.ensemble import RandomForestClassifier\n",
    "from sklearn.ensemble import GradientBoostingClassifier\n",
    "from sklearn.model_selection import GridSearchCV\n",
    "\n",
    "tr_dataset = pd.read_csv('train_dataset.csv',index_col=[0])"
   ]
  },
  {
   "cell_type": "code",
   "execution_count": 2,
   "id": "53a9c23c",
   "metadata": {},
   "outputs": [
    {
     "data": {
      "text/html": [
       "<div>\n",
       "<style scoped>\n",
       "    .dataframe tbody tr th:only-of-type {\n",
       "        vertical-align: middle;\n",
       "    }\n",
       "\n",
       "    .dataframe tbody tr th {\n",
       "        vertical-align: top;\n",
       "    }\n",
       "\n",
       "    .dataframe thead th {\n",
       "        text-align: right;\n",
       "    }\n",
       "</style>\n",
       "<table border=\"1\" class=\"dataframe\">\n",
       "  <thead>\n",
       "    <tr style=\"text-align: right;\">\n",
       "      <th></th>\n",
       "      <th>id</th>\n",
       "      <th>Clump Thickness</th>\n",
       "      <th>UofCSize</th>\n",
       "      <th>UofCShape</th>\n",
       "      <th>Marginal Adhesion</th>\n",
       "      <th>SECSize</th>\n",
       "      <th>Bare Nuclei</th>\n",
       "      <th>Bland Chromatin</th>\n",
       "      <th>Normal Nucleoli</th>\n",
       "      <th>Mitoses</th>\n",
       "      <th>Outcome</th>\n",
       "      <th>Class</th>\n",
       "    </tr>\n",
       "  </thead>\n",
       "  <tbody>\n",
       "    <tr>\n",
       "      <th>337</th>\n",
       "      <td>837082</td>\n",
       "      <td>2</td>\n",
       "      <td>1</td>\n",
       "      <td>1</td>\n",
       "      <td>1</td>\n",
       "      <td>2</td>\n",
       "      <td>1</td>\n",
       "      <td>3</td>\n",
       "      <td>1</td>\n",
       "      <td>1</td>\n",
       "      <td>2</td>\n",
       "      <td>2</td>\n",
       "    </tr>\n",
       "    <tr>\n",
       "      <th>226</th>\n",
       "      <td>1231706</td>\n",
       "      <td>8</td>\n",
       "      <td>4</td>\n",
       "      <td>6</td>\n",
       "      <td>3</td>\n",
       "      <td>3</td>\n",
       "      <td>1</td>\n",
       "      <td>4</td>\n",
       "      <td>3</td>\n",
       "      <td>1</td>\n",
       "      <td>2</td>\n",
       "      <td>2</td>\n",
       "    </tr>\n",
       "    <tr>\n",
       "      <th>361</th>\n",
       "      <td>636437</td>\n",
       "      <td>1</td>\n",
       "      <td>1</td>\n",
       "      <td>1</td>\n",
       "      <td>1</td>\n",
       "      <td>2</td>\n",
       "      <td>1</td>\n",
       "      <td>1</td>\n",
       "      <td>1</td>\n",
       "      <td>1</td>\n",
       "      <td>2</td>\n",
       "      <td>2</td>\n",
       "    </tr>\n",
       "    <tr>\n",
       "      <th>381</th>\n",
       "      <td>1168278</td>\n",
       "      <td>3</td>\n",
       "      <td>1</td>\n",
       "      <td>1</td>\n",
       "      <td>1</td>\n",
       "      <td>2</td>\n",
       "      <td>1</td>\n",
       "      <td>2</td>\n",
       "      <td>1</td>\n",
       "      <td>1</td>\n",
       "      <td>2</td>\n",
       "      <td>2</td>\n",
       "    </tr>\n",
       "    <tr>\n",
       "      <th>454</th>\n",
       "      <td>1181685</td>\n",
       "      <td>1</td>\n",
       "      <td>1</td>\n",
       "      <td>2</td>\n",
       "      <td>1</td>\n",
       "      <td>2</td>\n",
       "      <td>1</td>\n",
       "      <td>2</td>\n",
       "      <td>1</td>\n",
       "      <td>1</td>\n",
       "      <td>2</td>\n",
       "      <td>2</td>\n",
       "    </tr>\n",
       "  </tbody>\n",
       "</table>\n",
       "</div>"
      ],
      "text/plain": [
       "          id  Clump Thickness  UofCSize  UofCShape  Marginal Adhesion  \\\n",
       "337   837082                2         1          1                  1   \n",
       "226  1231706                8         4          6                  3   \n",
       "361   636437                1         1          1                  1   \n",
       "381  1168278                3         1          1                  1   \n",
       "454  1181685                1         1          2                  1   \n",
       "\n",
       "     SECSize  Bare Nuclei  Bland Chromatin  Normal Nucleoli  Mitoses  Outcome  \\\n",
       "337        2            1                3                1        1        2   \n",
       "226        3            1                4                3        1        2   \n",
       "361        2            1                1                1        1        2   \n",
       "381        2            1                2                1        1        2   \n",
       "454        2            1                2                1        1        2   \n",
       "\n",
       "     Class  \n",
       "337      2  \n",
       "226      2  \n",
       "361      2  \n",
       "381      2  \n",
       "454      2  "
      ]
     },
     "execution_count": 2,
     "metadata": {},
     "output_type": "execute_result"
    }
   ],
   "source": [
    "tr_dataset.head()"
   ]
  },
  {
   "cell_type": "markdown",
   "id": "46e85874",
   "metadata": {},
   "source": [
    "## Creating Dataframe"
   ]
  },
  {
   "cell_type": "code",
   "execution_count": 3,
   "id": "36c49ef4",
   "metadata": {},
   "outputs": [],
   "source": [
    "features = ['id', 'Clump Thickness', 'UofCSize', 'UofCShape', 'Marginal Adhesion', 'SECSize', 'Bare Nuclei', 'Bland Chromatin', 'Normal Nucleoli', 'Mitoses']\n",
    "\n",
    "\n",
    "X_train = tr_dataset.loc[:, features]\n",
    "y_train = tr_dataset.loc[:,'Class'].values"
   ]
  },
  {
   "cell_type": "markdown",
   "id": "f8bd243c",
   "metadata": {},
   "source": [
    "## Hyperparameter Tuning "
   ]
  },
  {
   "cell_type": "code",
   "execution_count": 4,
   "id": "0fa31944",
   "metadata": {},
   "outputs": [],
   "source": [
    "def print_results(results):\n",
    "    print('BEST PARAMS: {}\\n'.format(results.best_params_))\n",
    "\n",
    "    means = results.cv_results_['mean_test_score']\n",
    "    stds = results.cv_results_['std_test_score']\n",
    "    for mean, std, params in zip(means, stds, results.cv_results_['params']):\n",
    "        print('{} (+/-{}) for {}'.format(round(mean, 3), round(std * 2, 3), params))"
   ]
  },
  {
   "cell_type": "code",
   "execution_count": 5,
   "id": "7ce624fd",
   "metadata": {},
   "outputs": [
    {
     "name": "stdout",
     "output_type": "stream",
     "text": [
      "BEST PARAMS: {'learning_rate': 0.1, 'max_depth': 1, 'n_estimators': 160}\n",
      "\n",
      "0.651 (+/-0.008) for {'learning_rate': 0.001, 'max_depth': 1, 'n_estimators': 160}\n",
      "0.651 (+/-0.008) for {'learning_rate': 0.001, 'max_depth': 2, 'n_estimators': 160}\n",
      "0.952 (+/-0.017) for {'learning_rate': 0.01, 'max_depth': 1, 'n_estimators': 160}\n",
      "0.96 (+/-0.028) for {'learning_rate': 0.01, 'max_depth': 2, 'n_estimators': 160}\n",
      "0.969 (+/-0.023) for {'learning_rate': 0.1, 'max_depth': 1, 'n_estimators': 160}\n",
      "0.962 (+/-0.021) for {'learning_rate': 0.1, 'max_depth': 2, 'n_estimators': 160}\n",
      "0.967 (+/-0.015) for {'learning_rate': 0.2, 'max_depth': 1, 'n_estimators': 160}\n",
      "0.956 (+/-0.015) for {'learning_rate': 0.2, 'max_depth': 2, 'n_estimators': 160}\n",
      "0.962 (+/-0.01) for {'learning_rate': 0.3, 'max_depth': 1, 'n_estimators': 160}\n",
      "0.954 (+/-0.028) for {'learning_rate': 0.3, 'max_depth': 2, 'n_estimators': 160}\n",
      "0.956 (+/-0.02) for {'learning_rate': 0.4, 'max_depth': 1, 'n_estimators': 160}\n",
      "0.956 (+/-0.009) for {'learning_rate': 0.4, 'max_depth': 2, 'n_estimators': 160}\n",
      "0.962 (+/-0.021) for {'learning_rate': 0.5, 'max_depth': 1, 'n_estimators': 160}\n",
      "0.96 (+/-0.021) for {'learning_rate': 0.5, 'max_depth': 2, 'n_estimators': 160}\n",
      "0.958 (+/-0.027) for {'learning_rate': 1, 'max_depth': 1, 'n_estimators': 160}\n",
      "0.958 (+/-0.013) for {'learning_rate': 1, 'max_depth': 2, 'n_estimators': 160}\n",
      "0.079 (+/-0.038) for {'learning_rate': 10, 'max_depth': 1, 'n_estimators': 160}\n",
      "0.333 (+/-0.641) for {'learning_rate': 10, 'max_depth': 2, 'n_estimators': 160}\n",
      "0.349 (+/-0.008) for {'learning_rate': 100, 'max_depth': 1, 'n_estimators': 160}\n",
      "0.43 (+/-0.502) for {'learning_rate': 100, 'max_depth': 2, 'n_estimators': 160}\n"
     ]
    }
   ],
   "source": [
    "gb = GradientBoostingClassifier()\n",
    "parameters = {\n",
    "    'n_estimators': [160],\n",
    "    'max_depth': [1, 2],\n",
    "    'learning_rate': [0.001, 0.01, 0.1, 0.2, 0.3, 0.4, 0.5, 1, 10, 100]\n",
    "}\n",
    "cv = GridSearchCV(gb, parameters, cv=5)\n",
    "cv.fit(X_train, y_train.ravel())\n",
    "\n",
    "print_results(cv)"
   ]
  },
  {
   "cell_type": "markdown",
   "id": "b1cd0860",
   "metadata": {},
   "source": [
    "## Checking Models Performance on Validation dataset"
   ]
  },
  {
   "cell_type": "markdown",
   "id": "5485a4ca",
   "metadata": {},
   "source": [
    "### Reading validation dataset"
   ]
  },
  {
   "cell_type": "code",
   "execution_count": 7,
   "id": "dcfdbd16",
   "metadata": {},
   "outputs": [],
   "source": [
    "Val_df = pd.read_csv('validation_dataset.csv', index_col=[0])"
   ]
  },
  {
   "cell_type": "code",
   "execution_count": 8,
   "id": "9f913fa2",
   "metadata": {},
   "outputs": [],
   "source": [
    "features = ['id', 'Clump Thickness', 'UofCSize', 'UofCShape', 'Marginal Adhesion', 'SECSize', 'Bare Nuclei', 'Bland Chromatin', 'Normal Nucleoli', 'Mitoses']\n",
    "\n",
    "X_val = Val_df.loc[:, features]\n",
    "y_val = Val_df.loc[:,'Class'].values"
   ]
  },
  {
   "cell_type": "code",
   "execution_count": 10,
   "id": "bce23774",
   "metadata": {},
   "outputs": [
    {
     "name": "stdout",
     "output_type": "stream",
     "text": [
      "0.9514563106796117\n"
     ]
    }
   ],
   "source": [
    "score = cv.score(X_val, y_val)\n",
    "print(score)"
   ]
  },
  {
   "cell_type": "code",
   "execution_count": 11,
   "id": "8034831e",
   "metadata": {},
   "outputs": [],
   "source": [
    "from sklearn import metrics\n",
    "predictions = cv.predict(X_val)"
   ]
  },
  {
   "cell_type": "code",
   "execution_count": 12,
   "id": "f907c90e",
   "metadata": {},
   "outputs": [
    {
     "name": "stdout",
     "output_type": "stream",
     "text": [
      "              precision    recall  f1-score   support\n",
      "\n",
      "           2       0.98      0.94      0.96        69\n",
      "           4       0.89      0.97      0.93        34\n",
      "\n",
      "    accuracy                           0.95       103\n",
      "   macro avg       0.94      0.96      0.95       103\n",
      "weighted avg       0.95      0.95      0.95       103\n",
      "\n"
     ]
    }
   ],
   "source": [
    "print(metrics.classification_report(predictions,y_val))"
   ]
  },
  {
   "cell_type": "code",
   "execution_count": 13,
   "id": "5662d5cb",
   "metadata": {},
   "outputs": [
    {
     "data": {
      "text/plain": [
       "GradientBoostingClassifier(max_depth=1, n_estimators=160)"
      ]
     },
     "execution_count": 13,
     "metadata": {},
     "output_type": "execute_result"
    }
   ],
   "source": [
    "cv.best_estimator_"
   ]
  },
  {
   "cell_type": "markdown",
   "id": "fddef707",
   "metadata": {},
   "source": [
    "## Writing out the picked Model"
   ]
  },
  {
   "cell_type": "code",
   "execution_count": 14,
   "id": "f856baa2",
   "metadata": {},
   "outputs": [
    {
     "data": {
      "text/plain": [
       "['cancer_boost_model.pkl']"
      ]
     },
     "execution_count": 14,
     "metadata": {},
     "output_type": "execute_result"
    }
   ],
   "source": [
    "joblib.dump(cv.best_estimator_, 'cancer_boost_model.pkl')"
   ]
  }
 ],
 "metadata": {
  "kernelspec": {
   "display_name": "Python 3 (ipykernel)",
   "language": "python",
   "name": "python3"
  },
  "language_info": {
   "codemirror_mode": {
    "name": "ipython",
    "version": 3
   },
   "file_extension": ".py",
   "mimetype": "text/x-python",
   "name": "python",
   "nbconvert_exporter": "python",
   "pygments_lexer": "ipython3",
   "version": "3.9.12"
  }
 },
 "nbformat": 4,
 "nbformat_minor": 5
}
