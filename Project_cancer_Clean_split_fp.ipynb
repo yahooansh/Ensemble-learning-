{
 "cells": [
  {
   "cell_type": "code",
   "execution_count": 1,
   "id": "81178213",
   "metadata": {},
   "outputs": [
    {
     "data": {
      "text/html": [
       "<div>\n",
       "<style scoped>\n",
       "    .dataframe tbody tr th:only-of-type {\n",
       "        vertical-align: middle;\n",
       "    }\n",
       "\n",
       "    .dataframe tbody tr th {\n",
       "        vertical-align: top;\n",
       "    }\n",
       "\n",
       "    .dataframe thead th {\n",
       "        text-align: right;\n",
       "    }\n",
       "</style>\n",
       "<table border=\"1\" class=\"dataframe\">\n",
       "  <thead>\n",
       "    <tr style=\"text-align: right;\">\n",
       "      <th></th>\n",
       "      <th>id</th>\n",
       "      <th>Clump Thickness</th>\n",
       "      <th>UofCSize</th>\n",
       "      <th>UofCShape</th>\n",
       "      <th>Marginal Adhesion</th>\n",
       "      <th>SECSize</th>\n",
       "      <th>Bare Nuclei</th>\n",
       "      <th>Bland Chromatin</th>\n",
       "      <th>Normal Nucleoli</th>\n",
       "      <th>Mitoses</th>\n",
       "      <th>Class</th>\n",
       "    </tr>\n",
       "  </thead>\n",
       "  <tbody>\n",
       "    <tr>\n",
       "      <th>0</th>\n",
       "      <td>1000025</td>\n",
       "      <td>5</td>\n",
       "      <td>1</td>\n",
       "      <td>1</td>\n",
       "      <td>1</td>\n",
       "      <td>2</td>\n",
       "      <td>1</td>\n",
       "      <td>3</td>\n",
       "      <td>1</td>\n",
       "      <td>1</td>\n",
       "      <td>2</td>\n",
       "    </tr>\n",
       "    <tr>\n",
       "      <th>1</th>\n",
       "      <td>1002945</td>\n",
       "      <td>5</td>\n",
       "      <td>4</td>\n",
       "      <td>4</td>\n",
       "      <td>5</td>\n",
       "      <td>7</td>\n",
       "      <td>10</td>\n",
       "      <td>3</td>\n",
       "      <td>2</td>\n",
       "      <td>1</td>\n",
       "      <td>2</td>\n",
       "    </tr>\n",
       "    <tr>\n",
       "      <th>2</th>\n",
       "      <td>1015425</td>\n",
       "      <td>3</td>\n",
       "      <td>1</td>\n",
       "      <td>1</td>\n",
       "      <td>1</td>\n",
       "      <td>2</td>\n",
       "      <td>2</td>\n",
       "      <td>3</td>\n",
       "      <td>1</td>\n",
       "      <td>1</td>\n",
       "      <td>2</td>\n",
       "    </tr>\n",
       "    <tr>\n",
       "      <th>3</th>\n",
       "      <td>1016277</td>\n",
       "      <td>6</td>\n",
       "      <td>8</td>\n",
       "      <td>8</td>\n",
       "      <td>1</td>\n",
       "      <td>3</td>\n",
       "      <td>4</td>\n",
       "      <td>3</td>\n",
       "      <td>7</td>\n",
       "      <td>1</td>\n",
       "      <td>2</td>\n",
       "    </tr>\n",
       "    <tr>\n",
       "      <th>4</th>\n",
       "      <td>1017023</td>\n",
       "      <td>4</td>\n",
       "      <td>1</td>\n",
       "      <td>1</td>\n",
       "      <td>3</td>\n",
       "      <td>2</td>\n",
       "      <td>1</td>\n",
       "      <td>3</td>\n",
       "      <td>1</td>\n",
       "      <td>1</td>\n",
       "      <td>2</td>\n",
       "    </tr>\n",
       "  </tbody>\n",
       "</table>\n",
       "</div>"
      ],
      "text/plain": [
       "        id  Clump Thickness  UofCSize  UofCShape  Marginal Adhesion  SECSize  \\\n",
       "0  1000025                5         1          1                  1        2   \n",
       "1  1002945                5         4          4                  5        7   \n",
       "2  1015425                3         1          1                  1        2   \n",
       "3  1016277                6         8          8                  1        3   \n",
       "4  1017023                4         1          1                  3        2   \n",
       "\n",
       "   Bare Nuclei  Bland Chromatin  Normal Nucleoli  Mitoses  Class  \n",
       "0            1                3                1        1      2  \n",
       "1           10                3                2        1      2  \n",
       "2            2                3                1        1      2  \n",
       "3            4                3                7        1      2  \n",
       "4            1                3                1        1      2  "
      ]
     },
     "execution_count": 1,
     "metadata": {},
     "output_type": "execute_result"
    }
   ],
   "source": [
    "import matplotlib.pyplot as plt\n",
    "import numpy as np\n",
    "import pandas as pd\n",
    "import seaborn as sns\n",
    "%matplotlib inline\n",
    "\n",
    "df_gp23 = pd.read_csv('cancer.csv')\n",
    "df_gp23.head()"
   ]
  },
  {
   "cell_type": "code",
   "execution_count": 2,
   "id": "7a6b42a7",
   "metadata": {},
   "outputs": [
    {
     "data": {
      "text/plain": [
       "id                   0\n",
       "Clump Thickness      0\n",
       "UofCSize             0\n",
       "UofCShape            0\n",
       "Marginal Adhesion    0\n",
       "SECSize              0\n",
       "Bare Nuclei          0\n",
       "Bland Chromatin      0\n",
       "Normal Nucleoli      0\n",
       "Mitoses              0\n",
       "Class                0\n",
       "dtype: int64"
      ]
     },
     "execution_count": 2,
     "metadata": {},
     "output_type": "execute_result"
    }
   ],
   "source": [
    "df_gp23.isnull().sum()"
   ]
  },
  {
   "cell_type": "code",
   "execution_count": 3,
   "id": "79e58be0",
   "metadata": {},
   "outputs": [
    {
     "data": {
      "text/html": [
       "<div>\n",
       "<style scoped>\n",
       "    .dataframe tbody tr th:only-of-type {\n",
       "        vertical-align: middle;\n",
       "    }\n",
       "\n",
       "    .dataframe tbody tr th {\n",
       "        vertical-align: top;\n",
       "    }\n",
       "\n",
       "    .dataframe thead th {\n",
       "        text-align: right;\n",
       "    }\n",
       "</style>\n",
       "<table border=\"1\" class=\"dataframe\">\n",
       "  <thead>\n",
       "    <tr style=\"text-align: right;\">\n",
       "      <th></th>\n",
       "      <th>id</th>\n",
       "      <th>Clump Thickness</th>\n",
       "      <th>UofCSize</th>\n",
       "      <th>UofCShape</th>\n",
       "      <th>Marginal Adhesion</th>\n",
       "      <th>SECSize</th>\n",
       "      <th>Bare Nuclei</th>\n",
       "      <th>Bland Chromatin</th>\n",
       "      <th>Normal Nucleoli</th>\n",
       "      <th>Mitoses</th>\n",
       "      <th>Class</th>\n",
       "    </tr>\n",
       "  </thead>\n",
       "  <tbody>\n",
       "    <tr>\n",
       "      <th>count</th>\n",
       "      <td>6.830000e+02</td>\n",
       "      <td>683.000000</td>\n",
       "      <td>683.000000</td>\n",
       "      <td>683.000000</td>\n",
       "      <td>683.000000</td>\n",
       "      <td>683.000000</td>\n",
       "      <td>683.000000</td>\n",
       "      <td>683.000000</td>\n",
       "      <td>683.000000</td>\n",
       "      <td>683.000000</td>\n",
       "      <td>683.000000</td>\n",
       "    </tr>\n",
       "    <tr>\n",
       "      <th>mean</th>\n",
       "      <td>1.076720e+06</td>\n",
       "      <td>4.442167</td>\n",
       "      <td>3.150805</td>\n",
       "      <td>3.215227</td>\n",
       "      <td>2.830161</td>\n",
       "      <td>3.234261</td>\n",
       "      <td>3.544656</td>\n",
       "      <td>3.445095</td>\n",
       "      <td>2.869693</td>\n",
       "      <td>1.603221</td>\n",
       "      <td>2.699854</td>\n",
       "    </tr>\n",
       "    <tr>\n",
       "      <th>std</th>\n",
       "      <td>6.206440e+05</td>\n",
       "      <td>2.820761</td>\n",
       "      <td>3.065145</td>\n",
       "      <td>2.988581</td>\n",
       "      <td>2.864562</td>\n",
       "      <td>2.223085</td>\n",
       "      <td>3.643857</td>\n",
       "      <td>2.449697</td>\n",
       "      <td>3.052666</td>\n",
       "      <td>1.732674</td>\n",
       "      <td>0.954592</td>\n",
       "    </tr>\n",
       "    <tr>\n",
       "      <th>min</th>\n",
       "      <td>6.337500e+04</td>\n",
       "      <td>1.000000</td>\n",
       "      <td>1.000000</td>\n",
       "      <td>1.000000</td>\n",
       "      <td>1.000000</td>\n",
       "      <td>1.000000</td>\n",
       "      <td>1.000000</td>\n",
       "      <td>1.000000</td>\n",
       "      <td>1.000000</td>\n",
       "      <td>1.000000</td>\n",
       "      <td>2.000000</td>\n",
       "    </tr>\n",
       "    <tr>\n",
       "      <th>25%</th>\n",
       "      <td>8.776170e+05</td>\n",
       "      <td>2.000000</td>\n",
       "      <td>1.000000</td>\n",
       "      <td>1.000000</td>\n",
       "      <td>1.000000</td>\n",
       "      <td>2.000000</td>\n",
       "      <td>1.000000</td>\n",
       "      <td>2.000000</td>\n",
       "      <td>1.000000</td>\n",
       "      <td>1.000000</td>\n",
       "      <td>2.000000</td>\n",
       "    </tr>\n",
       "    <tr>\n",
       "      <th>50%</th>\n",
       "      <td>1.171795e+06</td>\n",
       "      <td>4.000000</td>\n",
       "      <td>1.000000</td>\n",
       "      <td>1.000000</td>\n",
       "      <td>1.000000</td>\n",
       "      <td>2.000000</td>\n",
       "      <td>1.000000</td>\n",
       "      <td>3.000000</td>\n",
       "      <td>1.000000</td>\n",
       "      <td>1.000000</td>\n",
       "      <td>2.000000</td>\n",
       "    </tr>\n",
       "    <tr>\n",
       "      <th>75%</th>\n",
       "      <td>1.238705e+06</td>\n",
       "      <td>6.000000</td>\n",
       "      <td>5.000000</td>\n",
       "      <td>5.000000</td>\n",
       "      <td>4.000000</td>\n",
       "      <td>4.000000</td>\n",
       "      <td>6.000000</td>\n",
       "      <td>5.000000</td>\n",
       "      <td>4.000000</td>\n",
       "      <td>1.000000</td>\n",
       "      <td>4.000000</td>\n",
       "    </tr>\n",
       "    <tr>\n",
       "      <th>max</th>\n",
       "      <td>1.345435e+07</td>\n",
       "      <td>10.000000</td>\n",
       "      <td>10.000000</td>\n",
       "      <td>10.000000</td>\n",
       "      <td>10.000000</td>\n",
       "      <td>10.000000</td>\n",
       "      <td>10.000000</td>\n",
       "      <td>10.000000</td>\n",
       "      <td>10.000000</td>\n",
       "      <td>10.000000</td>\n",
       "      <td>4.000000</td>\n",
       "    </tr>\n",
       "  </tbody>\n",
       "</table>\n",
       "</div>"
      ],
      "text/plain": [
       "                 id  Clump Thickness    UofCSize   UofCShape  \\\n",
       "count  6.830000e+02       683.000000  683.000000  683.000000   \n",
       "mean   1.076720e+06         4.442167    3.150805    3.215227   \n",
       "std    6.206440e+05         2.820761    3.065145    2.988581   \n",
       "min    6.337500e+04         1.000000    1.000000    1.000000   \n",
       "25%    8.776170e+05         2.000000    1.000000    1.000000   \n",
       "50%    1.171795e+06         4.000000    1.000000    1.000000   \n",
       "75%    1.238705e+06         6.000000    5.000000    5.000000   \n",
       "max    1.345435e+07        10.000000   10.000000   10.000000   \n",
       "\n",
       "       Marginal Adhesion     SECSize  Bare Nuclei  Bland Chromatin  \\\n",
       "count         683.000000  683.000000   683.000000       683.000000   \n",
       "mean            2.830161    3.234261     3.544656         3.445095   \n",
       "std             2.864562    2.223085     3.643857         2.449697   \n",
       "min             1.000000    1.000000     1.000000         1.000000   \n",
       "25%             1.000000    2.000000     1.000000         2.000000   \n",
       "50%             1.000000    2.000000     1.000000         3.000000   \n",
       "75%             4.000000    4.000000     6.000000         5.000000   \n",
       "max            10.000000   10.000000    10.000000        10.000000   \n",
       "\n",
       "       Normal Nucleoli     Mitoses       Class  \n",
       "count       683.000000  683.000000  683.000000  \n",
       "mean          2.869693    1.603221    2.699854  \n",
       "std           3.052666    1.732674    0.954592  \n",
       "min           1.000000    1.000000    2.000000  \n",
       "25%           1.000000    1.000000    2.000000  \n",
       "50%           1.000000    1.000000    2.000000  \n",
       "75%           4.000000    1.000000    4.000000  \n",
       "max          10.000000   10.000000    4.000000  "
      ]
     },
     "execution_count": 3,
     "metadata": {},
     "output_type": "execute_result"
    }
   ],
   "source": [
    "df_gp23.describe()"
   ]
  },
  {
   "cell_type": "code",
   "execution_count": 5,
   "id": "680ea4c0",
   "metadata": {},
   "outputs": [
    {
     "data": {
      "text/plain": [
       "2    444\n",
       "4    239\n",
       "Name: Class, dtype: int64"
      ]
     },
     "execution_count": 5,
     "metadata": {},
     "output_type": "execute_result"
    }
   ],
   "source": [
    "df_gp23.Class.value_counts()"
   ]
  },
  {
   "cell_type": "code",
   "execution_count": 6,
   "id": "1824fc46",
   "metadata": {},
   "outputs": [
    {
     "data": {
      "text/html": [
       "<div>\n",
       "<style scoped>\n",
       "    .dataframe tbody tr th:only-of-type {\n",
       "        vertical-align: middle;\n",
       "    }\n",
       "\n",
       "    .dataframe tbody tr th {\n",
       "        vertical-align: top;\n",
       "    }\n",
       "\n",
       "    .dataframe thead th {\n",
       "        text-align: right;\n",
       "    }\n",
       "</style>\n",
       "<table border=\"1\" class=\"dataframe\">\n",
       "  <thead>\n",
       "    <tr style=\"text-align: right;\">\n",
       "      <th></th>\n",
       "      <th>id</th>\n",
       "      <th>Clump Thickness</th>\n",
       "      <th>UofCSize</th>\n",
       "      <th>UofCShape</th>\n",
       "      <th>Marginal Adhesion</th>\n",
       "      <th>SECSize</th>\n",
       "      <th>Bare Nuclei</th>\n",
       "      <th>Bland Chromatin</th>\n",
       "      <th>Normal Nucleoli</th>\n",
       "      <th>Mitoses</th>\n",
       "    </tr>\n",
       "    <tr>\n",
       "      <th>Class</th>\n",
       "      <th></th>\n",
       "      <th></th>\n",
       "      <th></th>\n",
       "      <th></th>\n",
       "      <th></th>\n",
       "      <th></th>\n",
       "      <th></th>\n",
       "      <th></th>\n",
       "      <th></th>\n",
       "      <th></th>\n",
       "    </tr>\n",
       "  </thead>\n",
       "  <tbody>\n",
       "    <tr>\n",
       "      <th>2</th>\n",
       "      <td>1.115261e+06</td>\n",
       "      <td>2.963964</td>\n",
       "      <td>1.306306</td>\n",
       "      <td>1.414414</td>\n",
       "      <td>1.346847</td>\n",
       "      <td>2.108108</td>\n",
       "      <td>1.346847</td>\n",
       "      <td>2.083333</td>\n",
       "      <td>1.261261</td>\n",
       "      <td>1.065315</td>\n",
       "    </tr>\n",
       "    <tr>\n",
       "      <th>4</th>\n",
       "      <td>1.005121e+06</td>\n",
       "      <td>7.188285</td>\n",
       "      <td>6.577406</td>\n",
       "      <td>6.560669</td>\n",
       "      <td>5.585774</td>\n",
       "      <td>5.326360</td>\n",
       "      <td>7.627615</td>\n",
       "      <td>5.974895</td>\n",
       "      <td>5.857741</td>\n",
       "      <td>2.602510</td>\n",
       "    </tr>\n",
       "  </tbody>\n",
       "</table>\n",
       "</div>"
      ],
      "text/plain": [
       "                 id  Clump Thickness  UofCSize  UofCShape  Marginal Adhesion  \\\n",
       "Class                                                                          \n",
       "2      1.115261e+06         2.963964  1.306306   1.414414           1.346847   \n",
       "4      1.005121e+06         7.188285  6.577406   6.560669           5.585774   \n",
       "\n",
       "        SECSize  Bare Nuclei  Bland Chromatin  Normal Nucleoli   Mitoses  \n",
       "Class                                                                     \n",
       "2      2.108108     1.346847         2.083333         1.261261  1.065315  \n",
       "4      5.326360     7.627615         5.974895         5.857741  2.602510  "
      ]
     },
     "execution_count": 6,
     "metadata": {},
     "output_type": "execute_result"
    }
   ],
   "source": [
    "df_gp23.groupby('Class').mean()"
   ]
  },
  {
   "cell_type": "code",
   "execution_count": 7,
   "id": "e40be9b7",
   "metadata": {},
   "outputs": [
    {
     "data": {
      "text/html": [
       "<div>\n",
       "<style scoped>\n",
       "    .dataframe tbody tr th:only-of-type {\n",
       "        vertical-align: middle;\n",
       "    }\n",
       "\n",
       "    .dataframe tbody tr th {\n",
       "        vertical-align: top;\n",
       "    }\n",
       "\n",
       "    .dataframe thead th {\n",
       "        text-align: right;\n",
       "    }\n",
       "</style>\n",
       "<table border=\"1\" class=\"dataframe\">\n",
       "  <thead>\n",
       "    <tr style=\"text-align: right;\">\n",
       "      <th></th>\n",
       "      <th>id</th>\n",
       "      <th>Clump Thickness</th>\n",
       "      <th>UofCSize</th>\n",
       "      <th>UofCShape</th>\n",
       "      <th>Marginal Adhesion</th>\n",
       "      <th>SECSize</th>\n",
       "      <th>Bare Nuclei</th>\n",
       "      <th>Bland Chromatin</th>\n",
       "      <th>Normal Nucleoli</th>\n",
       "      <th>Mitoses</th>\n",
       "      <th>Class</th>\n",
       "    </tr>\n",
       "  </thead>\n",
       "  <tbody>\n",
       "    <tr>\n",
       "      <th>id</th>\n",
       "      <td>1.000000</td>\n",
       "      <td>-0.056350</td>\n",
       "      <td>-0.041396</td>\n",
       "      <td>-0.042221</td>\n",
       "      <td>-0.069630</td>\n",
       "      <td>-0.048644</td>\n",
       "      <td>-0.099248</td>\n",
       "      <td>-0.061966</td>\n",
       "      <td>-0.050699</td>\n",
       "      <td>-0.037972</td>\n",
       "      <td>-0.084701</td>\n",
       "    </tr>\n",
       "    <tr>\n",
       "      <th>Clump Thickness</th>\n",
       "      <td>-0.056350</td>\n",
       "      <td>1.000000</td>\n",
       "      <td>0.642481</td>\n",
       "      <td>0.653470</td>\n",
       "      <td>0.487829</td>\n",
       "      <td>0.523596</td>\n",
       "      <td>0.593091</td>\n",
       "      <td>0.553742</td>\n",
       "      <td>0.534066</td>\n",
       "      <td>0.350957</td>\n",
       "      <td>0.714790</td>\n",
       "    </tr>\n",
       "    <tr>\n",
       "      <th>UofCSize</th>\n",
       "      <td>-0.041396</td>\n",
       "      <td>0.642481</td>\n",
       "      <td>1.000000</td>\n",
       "      <td>0.907228</td>\n",
       "      <td>0.706977</td>\n",
       "      <td>0.753544</td>\n",
       "      <td>0.691709</td>\n",
       "      <td>0.755559</td>\n",
       "      <td>0.719346</td>\n",
       "      <td>0.460755</td>\n",
       "      <td>0.820801</td>\n",
       "    </tr>\n",
       "    <tr>\n",
       "      <th>UofCShape</th>\n",
       "      <td>-0.042221</td>\n",
       "      <td>0.653470</td>\n",
       "      <td>0.907228</td>\n",
       "      <td>1.000000</td>\n",
       "      <td>0.685948</td>\n",
       "      <td>0.722462</td>\n",
       "      <td>0.713878</td>\n",
       "      <td>0.735344</td>\n",
       "      <td>0.717963</td>\n",
       "      <td>0.441258</td>\n",
       "      <td>0.821891</td>\n",
       "    </tr>\n",
       "    <tr>\n",
       "      <th>Marginal Adhesion</th>\n",
       "      <td>-0.069630</td>\n",
       "      <td>0.487829</td>\n",
       "      <td>0.706977</td>\n",
       "      <td>0.685948</td>\n",
       "      <td>1.000000</td>\n",
       "      <td>0.594548</td>\n",
       "      <td>0.670648</td>\n",
       "      <td>0.668567</td>\n",
       "      <td>0.603121</td>\n",
       "      <td>0.418898</td>\n",
       "      <td>0.706294</td>\n",
       "    </tr>\n",
       "    <tr>\n",
       "      <th>SECSize</th>\n",
       "      <td>-0.048644</td>\n",
       "      <td>0.523596</td>\n",
       "      <td>0.753544</td>\n",
       "      <td>0.722462</td>\n",
       "      <td>0.594548</td>\n",
       "      <td>1.000000</td>\n",
       "      <td>0.585716</td>\n",
       "      <td>0.618128</td>\n",
       "      <td>0.628926</td>\n",
       "      <td>0.480583</td>\n",
       "      <td>0.690958</td>\n",
       "    </tr>\n",
       "    <tr>\n",
       "      <th>Bare Nuclei</th>\n",
       "      <td>-0.099248</td>\n",
       "      <td>0.593091</td>\n",
       "      <td>0.691709</td>\n",
       "      <td>0.713878</td>\n",
       "      <td>0.670648</td>\n",
       "      <td>0.585716</td>\n",
       "      <td>1.000000</td>\n",
       "      <td>0.680615</td>\n",
       "      <td>0.584280</td>\n",
       "      <td>0.339210</td>\n",
       "      <td>0.822696</td>\n",
       "    </tr>\n",
       "    <tr>\n",
       "      <th>Bland Chromatin</th>\n",
       "      <td>-0.061966</td>\n",
       "      <td>0.553742</td>\n",
       "      <td>0.755559</td>\n",
       "      <td>0.735344</td>\n",
       "      <td>0.668567</td>\n",
       "      <td>0.618128</td>\n",
       "      <td>0.680615</td>\n",
       "      <td>1.000000</td>\n",
       "      <td>0.665602</td>\n",
       "      <td>0.346011</td>\n",
       "      <td>0.758228</td>\n",
       "    </tr>\n",
       "    <tr>\n",
       "      <th>Normal Nucleoli</th>\n",
       "      <td>-0.050699</td>\n",
       "      <td>0.534066</td>\n",
       "      <td>0.719346</td>\n",
       "      <td>0.717963</td>\n",
       "      <td>0.603121</td>\n",
       "      <td>0.628926</td>\n",
       "      <td>0.584280</td>\n",
       "      <td>0.665602</td>\n",
       "      <td>1.000000</td>\n",
       "      <td>0.433757</td>\n",
       "      <td>0.718677</td>\n",
       "    </tr>\n",
       "    <tr>\n",
       "      <th>Mitoses</th>\n",
       "      <td>-0.037972</td>\n",
       "      <td>0.350957</td>\n",
       "      <td>0.460755</td>\n",
       "      <td>0.441258</td>\n",
       "      <td>0.418898</td>\n",
       "      <td>0.480583</td>\n",
       "      <td>0.339210</td>\n",
       "      <td>0.346011</td>\n",
       "      <td>0.433757</td>\n",
       "      <td>1.000000</td>\n",
       "      <td>0.423448</td>\n",
       "    </tr>\n",
       "    <tr>\n",
       "      <th>Class</th>\n",
       "      <td>-0.084701</td>\n",
       "      <td>0.714790</td>\n",
       "      <td>0.820801</td>\n",
       "      <td>0.821891</td>\n",
       "      <td>0.706294</td>\n",
       "      <td>0.690958</td>\n",
       "      <td>0.822696</td>\n",
       "      <td>0.758228</td>\n",
       "      <td>0.718677</td>\n",
       "      <td>0.423448</td>\n",
       "      <td>1.000000</td>\n",
       "    </tr>\n",
       "  </tbody>\n",
       "</table>\n",
       "</div>"
      ],
      "text/plain": [
       "                         id  Clump Thickness  UofCSize  UofCShape  \\\n",
       "id                 1.000000        -0.056350 -0.041396  -0.042221   \n",
       "Clump Thickness   -0.056350         1.000000  0.642481   0.653470   \n",
       "UofCSize          -0.041396         0.642481  1.000000   0.907228   \n",
       "UofCShape         -0.042221         0.653470  0.907228   1.000000   \n",
       "Marginal Adhesion -0.069630         0.487829  0.706977   0.685948   \n",
       "SECSize           -0.048644         0.523596  0.753544   0.722462   \n",
       "Bare Nuclei       -0.099248         0.593091  0.691709   0.713878   \n",
       "Bland Chromatin   -0.061966         0.553742  0.755559   0.735344   \n",
       "Normal Nucleoli   -0.050699         0.534066  0.719346   0.717963   \n",
       "Mitoses           -0.037972         0.350957  0.460755   0.441258   \n",
       "Class             -0.084701         0.714790  0.820801   0.821891   \n",
       "\n",
       "                   Marginal Adhesion   SECSize  Bare Nuclei  Bland Chromatin  \\\n",
       "id                         -0.069630 -0.048644    -0.099248        -0.061966   \n",
       "Clump Thickness             0.487829  0.523596     0.593091         0.553742   \n",
       "UofCSize                    0.706977  0.753544     0.691709         0.755559   \n",
       "UofCShape                   0.685948  0.722462     0.713878         0.735344   \n",
       "Marginal Adhesion           1.000000  0.594548     0.670648         0.668567   \n",
       "SECSize                     0.594548  1.000000     0.585716         0.618128   \n",
       "Bare Nuclei                 0.670648  0.585716     1.000000         0.680615   \n",
       "Bland Chromatin             0.668567  0.618128     0.680615         1.000000   \n",
       "Normal Nucleoli             0.603121  0.628926     0.584280         0.665602   \n",
       "Mitoses                     0.418898  0.480583     0.339210         0.346011   \n",
       "Class                       0.706294  0.690958     0.822696         0.758228   \n",
       "\n",
       "                   Normal Nucleoli   Mitoses     Class  \n",
       "id                       -0.050699 -0.037972 -0.084701  \n",
       "Clump Thickness           0.534066  0.350957  0.714790  \n",
       "UofCSize                  0.719346  0.460755  0.820801  \n",
       "UofCShape                 0.717963  0.441258  0.821891  \n",
       "Marginal Adhesion         0.603121  0.418898  0.706294  \n",
       "SECSize                   0.628926  0.480583  0.690958  \n",
       "Bare Nuclei               0.584280  0.339210  0.822696  \n",
       "Bland Chromatin           0.665602  0.346011  0.758228  \n",
       "Normal Nucleoli           1.000000  0.433757  0.718677  \n",
       "Mitoses                   0.433757  1.000000  0.423448  \n",
       "Class                     0.718677  0.423448  1.000000  "
      ]
     },
     "execution_count": 7,
     "metadata": {},
     "output_type": "execute_result"
    }
   ],
   "source": [
    "df_gp23.corr()"
   ]
  },
  {
   "cell_type": "code",
   "execution_count": 8,
   "id": "fc8d81bb",
   "metadata": {},
   "outputs": [
    {
     "data": {
      "text/plain": [
       "(683, 11)"
      ]
     },
     "execution_count": 8,
     "metadata": {},
     "output_type": "execute_result"
    }
   ],
   "source": [
    "df_gp23.shape"
   ]
  },
  {
   "cell_type": "markdown",
   "id": "ae38ca84",
   "metadata": {},
   "source": [
    "### Checking Outliers"
   ]
  },
  {
   "cell_type": "code",
   "execution_count": 10,
   "id": "3a98d449",
   "metadata": {
    "scrolled": true
   },
   "outputs": [
    {
     "data": {
      "image/png": "[encoded data removed]",
      "text/plain": [
       "<Figure size 432x288 with 1 Axes>"
      ]
     },
     "metadata": {
      "needs_background": "light"
     },
     "output_type": "display_data"
    },
    {
     "data": {
      "image/png": "[encoded data removed]",
      "text/plain": [
       "<Figure size 432x288 with 1 Axes>"
      ]
     },
     "metadata": {
      "needs_background": "light"
     },
     "output_type": "display_data"
    },
    {
     "data": {
      "image/png": "[encoded data removed]",
      "text/plain": [
       "<Figure size 432x288 with 1 Axes>"
      ]
     },
     "metadata": {
      "needs_background": "light"
     },
     "output_type": "display_data"
    },
    {
     "data": {
      "image/png": "[encoded data removed]",
      "text/plain": [
       "<Figure size 432x288 with 1 Axes>"
      ]
     },
     "metadata": {
      "needs_background": "light"
     },
     "output_type": "display_data"
    },
    {
     "data": {
      "image/png": "[encoded data removed]",
      "text/plain": [
       "<Figure size 432x288 with 1 Axes>"
      ]
     },
     "metadata": {
      "needs_background": "light"
     },
     "output_type": "display_data"
    },
    {
     "data": {
      "image/png": "[encoded data removed]",
      "text/plain": [
       "<Figure size 432x288 with 1 Axes>"
      ]
     },
     "metadata": {
      "needs_background": "light"
     },
     "output_type": "display_data"
    },
    {
     "data": {
      "image/png": "[encoded data removed]",
      "text/plain": [
       "<Figure size 432x288 with 1 Axes>"
      ]
     },
     "metadata": {
      "needs_background": "light"
     },
     "output_type": "display_data"
    },
    {
     "data": {
      "image/png": "[encoded data removed]",
      "text/plain": [
       "<Figure size 432x288 with 1 Axes>"
      ]
     },
     "metadata": {
      "needs_background": "light"
     },
     "output_type": "display_data"
    },
    {
     "data": {
      "image/png": "[encoded data removed]",
      "text/plain": [
       "<Figure size 432x288 with 1 Axes>"
      ]
     },
     "metadata": {
      "needs_background": "light"
     },
     "output_type": "display_data"
    },
    {
     "data": {
      "image/png": "[encoded data removed]",
      "text/plain": [
       "<Figure size 432x288 with 1 Axes>"
      ]
     },
     "metadata": {
      "needs_background": "light"
     },
     "output_type": "display_data"
    },
    {
     "data": {
      "image/png": "[encoded data removed]",
      "text/plain": [
       "<Figure size 432x288 with 1 Axes>"
      ]
     },
     "metadata": {
      "needs_background": "light"
     },
     "output_type": "display_data"
    }
   ],
   "source": [
    "for i in df_gp23.columns:\n",
    "    plt.figure()\n",
    "    sns.boxplot(x = i, data = df_gp23)"
   ]
  },
  {
   "cell_type": "markdown",
   "id": "46d260fe",
   "metadata": {},
   "source": [
    "## Creating a DataFrame"
   ]
  },
  {
   "cell_type": "code",
   "execution_count": 14,
   "id": "75e54e2c",
   "metadata": {},
   "outputs": [],
   "source": [
    "features = ['id', 'Clump Thickness', 'UofCSize', 'UofCShape', 'Marginal Adhesion', 'SECSize', 'Bare Nuclei', 'Bland Chromatin', 'Normal Nucleoli', 'Mitoses']\n",
    "\n",
    "X = df_gp23.loc[:, features]\n",
    "y = df_gp23.loc[:,'Class'].values"
   ]
  },
  {
   "cell_type": "code",
   "execution_count": 15,
   "id": "5cc53e19",
   "metadata": {},
   "outputs": [
    {
     "data": {
      "text/plain": [
       "array([[-0.12366418,  0.19790469, -0.70221201, -0.74177362, -0.63936553,\n",
       "        -0.5556085 , -0.69885309, -0.18182716, -0.61292736, -0.34839971],\n",
       "       [-0.11895594,  0.19790469,  0.27725185,  0.26278299,  0.75803177,\n",
       "         1.69516613,  1.77286724, -0.18182716, -0.28510482, -0.34839971],\n",
       "       [-0.09883306, -0.51164337, -0.70221201, -0.74177362, -0.63936553,\n",
       "        -0.5556085 , -0.4242175 , -0.18182716, -0.61292736, -0.34839971]])"
      ]
     },
     "execution_count": 15,
     "metadata": {},
     "output_type": "execute_result"
    }
   ],
   "source": [
    "from sklearn.preprocessing import StandardScaler\n",
    "\n",
    "scaler = StandardScaler()\n",
    "X_scaled = scaler.fit_transform(X)\n",
    "X_scaled[:3]"
   ]
  },
  {
   "cell_type": "markdown",
   "id": "b11b3ab8",
   "metadata": {},
   "source": [
    "## Splitting into Training and Testing Dataset"
   ]
  },
  {
   "cell_type": "code",
   "execution_count": 16,
   "id": "124e07f1",
   "metadata": {},
   "outputs": [],
   "source": [
    "from sklearn.model_selection import train_test_split"
   ]
  },
  {
   "cell_type": "code",
   "execution_count": 17,
   "id": "05fd0e3a",
   "metadata": {},
   "outputs": [],
   "source": [
    "X_train, X_test, y_train, y_test = train_test_split(X, y, train_size = 0.7, stratify = y, random_state = 23)"
   ]
  },
  {
   "cell_type": "code",
   "execution_count": 18,
   "id": "2b0c9e87",
   "metadata": {},
   "outputs": [
    {
     "data": {
      "text/plain": [
       "(478, 10)"
      ]
     },
     "execution_count": 18,
     "metadata": {},
     "output_type": "execute_result"
    }
   ],
   "source": [
    "X_train.shape"
   ]
  },
  {
   "cell_type": "code",
   "execution_count": 19,
   "id": "6b62f82c",
   "metadata": {},
   "outputs": [
    {
     "data": {
      "text/plain": [
       "(205, 10)"
      ]
     },
     "execution_count": 19,
     "metadata": {},
     "output_type": "execute_result"
    }
   ],
   "source": [
    "X_test.shape"
   ]
  },
  {
   "cell_type": "code",
   "execution_count": 20,
   "id": "34ead21f",
   "metadata": {},
   "outputs": [
    {
     "data": {
      "text/plain": [
       "(478,)"
      ]
     },
     "execution_count": 20,
     "metadata": {},
     "output_type": "execute_result"
    }
   ],
   "source": [
    "y_train.shape"
   ]
  },
  {
   "cell_type": "markdown",
   "id": "f93ae778",
   "metadata": {},
   "source": [
    "### Saving Training and Testing dataset splits as csv files"
   ]
  },
  {
   "cell_type": "code",
   "execution_count": 22,
   "id": "5f1e3f07",
   "metadata": {},
   "outputs": [],
   "source": [
    "X_train['Class'] = y_train\n",
    "X_train.to_csv('train_dataset.csv')"
   ]
  },
  {
   "cell_type": "markdown",
   "id": "28889713",
   "metadata": {},
   "source": [
    "### Splitting into Validation Set "
   ]
  },
  {
   "cell_type": "code",
   "execution_count": 24,
   "id": "a1c4badc",
   "metadata": {},
   "outputs": [],
   "source": [
    "X_test1, X_val, y_test1, y_val = train_test_split(X_test, y_test, test_size =0.5, random_state = 23)"
   ]
  },
  {
   "cell_type": "code",
   "execution_count": 25,
   "id": "26d9d4e8",
   "metadata": {},
   "outputs": [
    {
     "data": {
      "text/plain": [
       "(102, 10)"
      ]
     },
     "execution_count": 25,
     "metadata": {},
     "output_type": "execute_result"
    }
   ],
   "source": [
    "X_test1.shape"
   ]
  },
  {
   "cell_type": "code",
   "execution_count": 26,
   "id": "b2599fc1",
   "metadata": {},
   "outputs": [
    {
     "data": {
      "text/plain": [
       "(103,)"
      ]
     },
     "execution_count": 26,
     "metadata": {},
     "output_type": "execute_result"
    }
   ],
   "source": [
    "y_val.shape"
   ]
  },
  {
   "cell_type": "markdown",
   "id": "42d9f3f6",
   "metadata": {},
   "source": [
    "### Saving validation dataset split as csv file"
   ]
  },
  {
   "cell_type": "code",
   "execution_count": 27,
   "id": "9167fdcb",
   "metadata": {},
   "outputs": [],
   "source": [
    "X_val[\"Class\"] = y_val\n",
    "X_val.to_csv('validation_dataset.csv')"
   ]
  },
  {
   "cell_type": "code",
   "execution_count": 28,
   "id": "d4d190ab",
   "metadata": {},
   "outputs": [],
   "source": [
    "X_test1['Class'] = y_test1\n",
    "X_test1.to_csv('test1val_dataset.csv')"
   ]
  }
 ],
 "metadata": {
  "kernelspec": {
   "display_name": "Python 3 (ipykernel)",
   "language": "python",
   "name": "python3"
  },
  "language_info": {
   "codemirror_mode": {
    "name": "ipython",
    "version": 3
   },
   "file_extension": ".py",
   "mimetype": "text/x-python",
   "name": "python",
   "nbconvert_exporter": "python",
   "pygments_lexer": "ipython3",
   "version": "3.12.4"
  }
 },
 "nbformat": 4,
 "nbformat_minor": 5
}
