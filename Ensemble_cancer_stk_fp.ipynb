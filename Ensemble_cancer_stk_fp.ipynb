{
 "cells": [
  {
   "cell_type": "markdown",
   "id": "198475ff",
   "metadata": {},
   "source": [
    "# Stacking Model"
   ]
  },
  {
   "cell_type": "markdown",
   "id": "02dd1190",
   "metadata": {},
   "source": [
    "## Reading the dataset"
   ]
  },
  {
   "cell_type": "code",
   "execution_count": 1,
   "id": "6002972f",
   "metadata": {},
   "outputs": [],
   "source": [
    "import joblib\n",
    "import pandas as pd\n",
    "from sklearn.ensemble import StackingClassifier, GradientBoostingClassifier, RandomForestClassifier\n",
    "from sklearn.linear_model import LogisticRegression\n",
    "from sklearn.model_selection import GridSearchCV\n",
    "\n",
    "tr_dataset = pd.read_csv('train_dataset.csv',index_col=[0])"
   ]
  },
  {
   "cell_type": "code",
   "execution_count": 2,
   "id": "bf838d2e",
   "metadata": {},
   "outputs": [
    {
     "data": {
      "text/html": [
       "<div>\n",
       "<style scoped>\n",
       "    .dataframe tbody tr th:only-of-type {\n",
       "        vertical-align: middle;\n",
       "    }\n",
       "\n",
       "    .dataframe tbody tr th {\n",
       "        vertical-align: top;\n",
       "    }\n",
       "\n",
       "    .dataframe thead th {\n",
       "        text-align: right;\n",
       "    }\n",
       "</style>\n",
       "<table border=\"1\" class=\"dataframe\">\n",
       "  <thead>\n",
       "    <tr style=\"text-align: right;\">\n",
       "      <th></th>\n",
       "      <th>id</th>\n",
       "      <th>Clump Thickness</th>\n",
       "      <th>UofCSize</th>\n",
       "      <th>UofCShape</th>\n",
       "      <th>Marginal Adhesion</th>\n",
       "      <th>SECSize</th>\n",
       "      <th>Bare Nuclei</th>\n",
       "      <th>Bland Chromatin</th>\n",
       "      <th>Normal Nucleoli</th>\n",
       "      <th>Mitoses</th>\n",
       "      <th>Outcome</th>\n",
       "      <th>Class</th>\n",
       "    </tr>\n",
       "  </thead>\n",
       "  <tbody>\n",
       "    <tr>\n",
       "      <th>337</th>\n",
       "      <td>837082</td>\n",
       "      <td>2</td>\n",
       "      <td>1</td>\n",
       "      <td>1</td>\n",
       "      <td>1</td>\n",
       "      <td>2</td>\n",
       "      <td>1</td>\n",
       "      <td>3</td>\n",
       "      <td>1</td>\n",
       "      <td>1</td>\n",
       "      <td>2</td>\n",
       "      <td>2</td>\n",
       "    </tr>\n",
       "    <tr>\n",
       "      <th>226</th>\n",
       "      <td>1231706</td>\n",
       "      <td>8</td>\n",
       "      <td>4</td>\n",
       "      <td>6</td>\n",
       "      <td>3</td>\n",
       "      <td>3</td>\n",
       "      <td>1</td>\n",
       "      <td>4</td>\n",
       "      <td>3</td>\n",
       "      <td>1</td>\n",
       "      <td>2</td>\n",
       "      <td>2</td>\n",
       "    </tr>\n",
       "    <tr>\n",
       "      <th>361</th>\n",
       "      <td>636437</td>\n",
       "      <td>1</td>\n",
       "      <td>1</td>\n",
       "      <td>1</td>\n",
       "      <td>1</td>\n",
       "      <td>2</td>\n",
       "      <td>1</td>\n",
       "      <td>1</td>\n",
       "      <td>1</td>\n",
       "      <td>1</td>\n",
       "      <td>2</td>\n",
       "      <td>2</td>\n",
       "    </tr>\n",
       "    <tr>\n",
       "      <th>381</th>\n",
       "      <td>1168278</td>\n",
       "      <td>3</td>\n",
       "      <td>1</td>\n",
       "      <td>1</td>\n",
       "      <td>1</td>\n",
       "      <td>2</td>\n",
       "      <td>1</td>\n",
       "      <td>2</td>\n",
       "      <td>1</td>\n",
       "      <td>1</td>\n",
       "      <td>2</td>\n",
       "      <td>2</td>\n",
       "    </tr>\n",
       "    <tr>\n",
       "      <th>454</th>\n",
       "      <td>1181685</td>\n",
       "      <td>1</td>\n",
       "      <td>1</td>\n",
       "      <td>2</td>\n",
       "      <td>1</td>\n",
       "      <td>2</td>\n",
       "      <td>1</td>\n",
       "      <td>2</td>\n",
       "      <td>1</td>\n",
       "      <td>1</td>\n",
       "      <td>2</td>\n",
       "      <td>2</td>\n",
       "    </tr>\n",
       "  </tbody>\n",
       "</table>\n",
       "</div>"
      ],
      "text/plain": [
       "          id  Clump Thickness  UofCSize  UofCShape  Marginal Adhesion  \\\n",
       "337   837082                2         1          1                  1   \n",
       "226  1231706                8         4          6                  3   \n",
       "361   636437                1         1          1                  1   \n",
       "381  1168278                3         1          1                  1   \n",
       "454  1181685                1         1          2                  1   \n",
       "\n",
       "     SECSize  Bare Nuclei  Bland Chromatin  Normal Nucleoli  Mitoses  Outcome  \\\n",
       "337        2            1                3                1        1        2   \n",
       "226        3            1                4                3        1        2   \n",
       "361        2            1                1                1        1        2   \n",
       "381        2            1                2                1        1        2   \n",
       "454        2            1                2                1        1        2   \n",
       "\n",
       "     Class  \n",
       "337      2  \n",
       "226      2  \n",
       "361      2  \n",
       "381      2  \n",
       "454      2  "
      ]
     },
     "execution_count": 2,
     "metadata": {},
     "output_type": "execute_result"
    }
   ],
   "source": [
    "tr_dataset.head()"
   ]
  },
  {
   "cell_type": "markdown",
   "id": "77123d2e",
   "metadata": {},
   "source": [
    "## Creating Dataframe"
   ]
  },
  {
   "cell_type": "code",
   "execution_count": 9,
   "id": "647ca983",
   "metadata": {},
   "outputs": [],
   "source": [
    "features = ['id', 'Clump Thickness', 'UofCSize', 'UofCShape', 'Marginal Adhesion', 'SECSize', 'Bare Nuclei', 'Bland Chromatin', 'Normal Nucleoli', 'Mitoses']\n",
    "\n",
    "\n",
    "X_train = tr_dataset.loc[:, features]\n",
    "y_train = tr_dataset.loc[:,'Class'].values"
   ]
  },
  {
   "cell_type": "markdown",
   "id": "2cb49e85",
   "metadata": {},
   "source": [
    "## Hyperparameter Tuning"
   ]
  },
  {
   "cell_type": "code",
   "execution_count": 10,
   "id": "fd51a6cc",
   "metadata": {},
   "outputs": [],
   "source": [
    "def print_results(results):\n",
    "    print('BEST PARAMS: {}\\n'.format(results.best_params_))\n",
    "\n",
    "    means = results.cv_results_['mean_test_score']\n",
    "    stds = results.cv_results_['std_test_score']\n",
    "    for mean, std, params in zip(means, stds, results.cv_results_['params']):\n",
    "        print('{} (+/-{}) for {}'.format(round(mean, 3), round(std * 2, 3), params))"
   ]
  },
  {
   "cell_type": "code",
   "execution_count": 11,
   "id": "86aca2ba",
   "metadata": {},
   "outputs": [],
   "source": [
    "estimators = [('rf', RandomForestClassifier()),\n",
    "              ('gb', GradientBoostingClassifier())]\n",
    "\n",
    "sc = StackingClassifier(estimators=estimators)"
   ]
  },
  {
   "cell_type": "code",
   "execution_count": 12,
   "id": "c268bf31",
   "metadata": {},
   "outputs": [
    {
     "name": "stdout",
     "output_type": "stream",
     "text": [
      "BEST PARAMS: {'final_estimator': LogisticRegression(C=10, max_iter=1000), 'gb__n_estimators': 50, 'passthrough': False, 'rf__n_estimators': 50}\n",
      "\n",
      "0.713 (+/-0.256) for {'final_estimator': LogisticRegression(C=0.1, max_iter=1000), 'gb__n_estimators': 50, 'passthrough': True, 'rf__n_estimators': 50}\n",
      "0.713 (+/-0.256) for {'final_estimator': LogisticRegression(C=0.1, max_iter=1000), 'gb__n_estimators': 50, 'passthrough': True, 'rf__n_estimators': 100}\n",
      "0.962 (+/-0.022) for {'final_estimator': LogisticRegression(C=0.1, max_iter=1000), 'gb__n_estimators': 50, 'passthrough': False, 'rf__n_estimators': 50}\n",
      "0.958 (+/-0.023) for {'final_estimator': LogisticRegression(C=0.1, max_iter=1000), 'gb__n_estimators': 50, 'passthrough': False, 'rf__n_estimators': 100}\n",
      "0.713 (+/-0.256) for {'final_estimator': LogisticRegression(C=0.1, max_iter=1000), 'gb__n_estimators': 100, 'passthrough': True, 'rf__n_estimators': 50}\n",
      "0.713 (+/-0.256) for {'final_estimator': LogisticRegression(C=0.1, max_iter=1000), 'gb__n_estimators': 100, 'passthrough': True, 'rf__n_estimators': 100}\n",
      "0.964 (+/-0.032) for {'final_estimator': LogisticRegression(C=0.1, max_iter=1000), 'gb__n_estimators': 100, 'passthrough': False, 'rf__n_estimators': 50}\n",
      "0.958 (+/-0.023) for {'final_estimator': LogisticRegression(C=0.1, max_iter=1000), 'gb__n_estimators': 100, 'passthrough': False, 'rf__n_estimators': 100}\n",
      "0.713 (+/-0.256) for {'final_estimator': LogisticRegression(C=1, max_iter=1000), 'gb__n_estimators': 50, 'passthrough': True, 'rf__n_estimators': 50}\n",
      "0.713 (+/-0.256) for {'final_estimator': LogisticRegression(C=1, max_iter=1000), 'gb__n_estimators': 50, 'passthrough': True, 'rf__n_estimators': 100}\n",
      "0.958 (+/-0.023) for {'final_estimator': LogisticRegression(C=1, max_iter=1000), 'gb__n_estimators': 50, 'passthrough': False, 'rf__n_estimators': 50}\n",
      "0.962 (+/-0.022) for {'final_estimator': LogisticRegression(C=1, max_iter=1000), 'gb__n_estimators': 50, 'passthrough': False, 'rf__n_estimators': 100}\n",
      "0.713 (+/-0.256) for {'final_estimator': LogisticRegression(C=1, max_iter=1000), 'gb__n_estimators': 100, 'passthrough': True, 'rf__n_estimators': 50}\n",
      "0.713 (+/-0.256) for {'final_estimator': LogisticRegression(C=1, max_iter=1000), 'gb__n_estimators': 100, 'passthrough': True, 'rf__n_estimators': 100}\n",
      "0.96 (+/-0.025) for {'final_estimator': LogisticRegression(C=1, max_iter=1000), 'gb__n_estimators': 100, 'passthrough': False, 'rf__n_estimators': 50}\n",
      "0.964 (+/-0.032) for {'final_estimator': LogisticRegression(C=1, max_iter=1000), 'gb__n_estimators': 100, 'passthrough': False, 'rf__n_estimators': 100}\n",
      "0.713 (+/-0.256) for {'final_estimator': LogisticRegression(C=10, max_iter=1000), 'gb__n_estimators': 50, 'passthrough': True, 'rf__n_estimators': 50}\n",
      "0.713 (+/-0.256) for {'final_estimator': LogisticRegression(C=10, max_iter=1000), 'gb__n_estimators': 50, 'passthrough': True, 'rf__n_estimators': 100}\n",
      "0.969 (+/-0.019) for {'final_estimator': LogisticRegression(C=10, max_iter=1000), 'gb__n_estimators': 50, 'passthrough': False, 'rf__n_estimators': 50}\n",
      "0.967 (+/-0.016) for {'final_estimator': LogisticRegression(C=10, max_iter=1000), 'gb__n_estimators': 50, 'passthrough': False, 'rf__n_estimators': 100}\n",
      "0.713 (+/-0.256) for {'final_estimator': LogisticRegression(C=10, max_iter=1000), 'gb__n_estimators': 100, 'passthrough': True, 'rf__n_estimators': 50}\n",
      "0.713 (+/-0.256) for {'final_estimator': LogisticRegression(C=10, max_iter=1000), 'gb__n_estimators': 100, 'passthrough': True, 'rf__n_estimators': 100}\n",
      "0.969 (+/-0.019) for {'final_estimator': LogisticRegression(C=10, max_iter=1000), 'gb__n_estimators': 100, 'passthrough': False, 'rf__n_estimators': 50}\n",
      "0.964 (+/-0.017) for {'final_estimator': LogisticRegression(C=10, max_iter=1000), 'gb__n_estimators': 100, 'passthrough': False, 'rf__n_estimators': 100}\n"
     ]
    }
   ],
   "source": [
    "parameters = {\n",
    "    'gb__n_estimators': [50, 100],\n",
    "    'rf__n_estimators': [50, 100],\n",
    "    'final_estimator': [LogisticRegression(C=0.1, max_iter=1000),\n",
    "                        LogisticRegression(C=1,max_iter = 1000),\n",
    "                        LogisticRegression(C=10, max_iter=1000)],\n",
    "    'passthrough': [True, False]\n",
    "}\n",
    "cv = GridSearchCV(sc, parameters, cv=5)\n",
    "cv.fit(X_train, y_train.ravel())\n",
    "\n",
    "print_results(cv)"
   ]
  },
  {
   "cell_type": "markdown",
   "id": "0c91c54f",
   "metadata": {},
   "source": [
    "## Checking Models performance on Validation dataset"
   ]
  },
  {
   "cell_type": "markdown",
   "id": "4cf687b8",
   "metadata": {},
   "source": [
    "### Reading the validation dataset"
   ]
  },
  {
   "cell_type": "code",
   "execution_count": 13,
   "id": "e0a1f8fd",
   "metadata": {},
   "outputs": [],
   "source": [
    "Val_df = pd.read_csv('validation_dataset.csv', index_col=[0])"
   ]
  },
  {
   "cell_type": "code",
   "execution_count": 14,
   "id": "50a00d85",
   "metadata": {},
   "outputs": [],
   "source": [
    "features = ['id', 'Clump Thickness', 'UofCSize', 'UofCShape', 'Marginal Adhesion', 'SECSize', 'Bare Nuclei', 'Bland Chromatin', 'Normal Nucleoli', 'Mitoses']\n",
    "\n",
    "X_val = Val_df.loc[:, features]\n",
    "y_val = Val_df.loc[:,'Class'].values"
   ]
  },
  {
   "cell_type": "code",
   "execution_count": 15,
   "id": "b34351be",
   "metadata": {},
   "outputs": [
    {
     "name": "stdout",
     "output_type": "stream",
     "text": [
      "0.9611650485436893\n"
     ]
    }
   ],
   "source": [
    "score = cv.score(X_val, y_val)\n",
    "print(score)"
   ]
  },
  {
   "cell_type": "code",
   "execution_count": 16,
   "id": "ef024d7d",
   "metadata": {},
   "outputs": [],
   "source": [
    "from sklearn import metrics\n",
    "predictions = cv.predict(X_val)"
   ]
  },
  {
   "cell_type": "code",
   "execution_count": 17,
   "id": "0f9176b6",
   "metadata": {},
   "outputs": [
    {
     "name": "stdout",
     "output_type": "stream",
     "text": [
      "              precision    recall  f1-score   support\n",
      "\n",
      "           2       0.98      0.96      0.97        68\n",
      "           4       0.92      0.97      0.94        35\n",
      "\n",
      "    accuracy                           0.96       103\n",
      "   macro avg       0.95      0.96      0.96       103\n",
      "weighted avg       0.96      0.96      0.96       103\n",
      "\n"
     ]
    }
   ],
   "source": [
    "print(metrics.classification_report(predictions,y_val))"
   ]
  },
  {
   "cell_type": "markdown",
   "id": "cd0c4409",
   "metadata": {},
   "source": [
    "### Writing out the pickled model"
   ]
  },
  {
   "cell_type": "code",
   "execution_count": 18,
   "id": "643f8046",
   "metadata": {},
   "outputs": [
    {
     "data": {
      "text/plain": [
       "['cancer_stk_model.pkl']"
      ]
     },
     "execution_count": 18,
     "metadata": {},
     "output_type": "execute_result"
    }
   ],
   "source": [
    "joblib.dump(cv.best_estimator_, 'cancer_stk_model.pkl')"
   ]
  },
  {
   "cell_type": "code",
   "execution_count": null,
   "id": "647cf3d4",
   "metadata": {},
   "outputs": [],
   "source": []
  }
 ],
 "metadata": {
  "kernelspec": {
   "display_name": "Python 3 (ipykernel)",
   "language": "python",
   "name": "python3"
  },
  "language_info": {
   "codemirror_mode": {
    "name": "ipython",
    "version": 3
   },
   "file_extension": ".py",
   "mimetype": "text/x-python",
   "name": "python",
   "nbconvert_exporter": "python",
   "pygments_lexer": "ipython3",
   "version": "3.9.12"
  }
 },
 "nbformat": 4,
 "nbformat_minor": 5
}
