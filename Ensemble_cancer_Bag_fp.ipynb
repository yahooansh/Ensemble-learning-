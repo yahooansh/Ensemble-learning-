{
 "cells": [
  {
   "cell_type": "markdown",
   "id": "c455b675",
   "metadata": {},
   "source": [
    "# Bagging Model"
   ]
  },
  {
   "cell_type": "markdown",
   "id": "f4a9d2d1",
   "metadata": {},
   "source": [
    "### Reading dataset"
   ]
  },
  {
   "cell_type": "code",
   "execution_count": 1,
   "id": "3245b375",
   "metadata": {},
   "outputs": [],
   "source": [
    "import joblib\n",
    "import pandas as pd\n",
    "from sklearn.ensemble import RandomForestClassifier\n",
    "from sklearn.model_selection import GridSearchCV\n",
    "\n",
    "tr_dataset = pd.read_csv('train_dataset.csv',index_col=[0])"
   ]
  },
  {
   "cell_type": "code",
   "execution_count": 2,
   "id": "fe996526",
   "metadata": {},
   "outputs": [
    {
     "data": {
      "text/html": [
       "<div>\n",
       "<style scoped>\n",
       "    .dataframe tbody tr th:only-of-type {\n",
       "        vertical-align: middle;\n",
       "    }\n",
       "\n",
       "    .dataframe tbody tr th {\n",
       "        vertical-align: top;\n",
       "    }\n",
       "\n",
       "    .dataframe thead th {\n",
       "        text-align: right;\n",
       "    }\n",
       "</style>\n",
       "<table border=\"1\" class=\"dataframe\">\n",
       "  <thead>\n",
       "    <tr style=\"text-align: right;\">\n",
       "      <th></th>\n",
       "      <th>id</th>\n",
       "      <th>Clump Thickness</th>\n",
       "      <th>UofCSize</th>\n",
       "      <th>UofCShape</th>\n",
       "      <th>Marginal Adhesion</th>\n",
       "      <th>SECSize</th>\n",
       "      <th>Bare Nuclei</th>\n",
       "      <th>Bland Chromatin</th>\n",
       "      <th>Normal Nucleoli</th>\n",
       "      <th>Mitoses</th>\n",
       "      <th>Outcome</th>\n",
       "      <th>Class</th>\n",
       "    </tr>\n",
       "  </thead>\n",
       "  <tbody>\n",
       "    <tr>\n",
       "      <th>337</th>\n",
       "      <td>837082</td>\n",
       "      <td>2</td>\n",
       "      <td>1</td>\n",
       "      <td>1</td>\n",
       "      <td>1</td>\n",
       "      <td>2</td>\n",
       "      <td>1</td>\n",
       "      <td>3</td>\n",
       "      <td>1</td>\n",
       "      <td>1</td>\n",
       "      <td>2</td>\n",
       "      <td>2</td>\n",
       "    </tr>\n",
       "    <tr>\n",
       "      <th>226</th>\n",
       "      <td>1231706</td>\n",
       "      <td>8</td>\n",
       "      <td>4</td>\n",
       "      <td>6</td>\n",
       "      <td>3</td>\n",
       "      <td>3</td>\n",
       "      <td>1</td>\n",
       "      <td>4</td>\n",
       "      <td>3</td>\n",
       "      <td>1</td>\n",
       "      <td>2</td>\n",
       "      <td>2</td>\n",
       "    </tr>\n",
       "    <tr>\n",
       "      <th>361</th>\n",
       "      <td>636437</td>\n",
       "      <td>1</td>\n",
       "      <td>1</td>\n",
       "      <td>1</td>\n",
       "      <td>1</td>\n",
       "      <td>2</td>\n",
       "      <td>1</td>\n",
       "      <td>1</td>\n",
       "      <td>1</td>\n",
       "      <td>1</td>\n",
       "      <td>2</td>\n",
       "      <td>2</td>\n",
       "    </tr>\n",
       "    <tr>\n",
       "      <th>381</th>\n",
       "      <td>1168278</td>\n",
       "      <td>3</td>\n",
       "      <td>1</td>\n",
       "      <td>1</td>\n",
       "      <td>1</td>\n",
       "      <td>2</td>\n",
       "      <td>1</td>\n",
       "      <td>2</td>\n",
       "      <td>1</td>\n",
       "      <td>1</td>\n",
       "      <td>2</td>\n",
       "      <td>2</td>\n",
       "    </tr>\n",
       "    <tr>\n",
       "      <th>454</th>\n",
       "      <td>1181685</td>\n",
       "      <td>1</td>\n",
       "      <td>1</td>\n",
       "      <td>2</td>\n",
       "      <td>1</td>\n",
       "      <td>2</td>\n",
       "      <td>1</td>\n",
       "      <td>2</td>\n",
       "      <td>1</td>\n",
       "      <td>1</td>\n",
       "      <td>2</td>\n",
       "      <td>2</td>\n",
       "    </tr>\n",
       "  </tbody>\n",
       "</table>\n",
       "</div>"
      ],
      "text/plain": [
       "          id  Clump Thickness  UofCSize  UofCShape  Marginal Adhesion  \\\n",
       "337   837082                2         1          1                  1   \n",
       "226  1231706                8         4          6                  3   \n",
       "361   636437                1         1          1                  1   \n",
       "381  1168278                3         1          1                  1   \n",
       "454  1181685                1         1          2                  1   \n",
       "\n",
       "     SECSize  Bare Nuclei  Bland Chromatin  Normal Nucleoli  Mitoses  Outcome  \\\n",
       "337        2            1                3                1        1        2   \n",
       "226        3            1                4                3        1        2   \n",
       "361        2            1                1                1        1        2   \n",
       "381        2            1                2                1        1        2   \n",
       "454        2            1                2                1        1        2   \n",
       "\n",
       "     Class  \n",
       "337      2  \n",
       "226      2  \n",
       "361      2  \n",
       "381      2  \n",
       "454      2  "
      ]
     },
     "execution_count": 2,
     "metadata": {},
     "output_type": "execute_result"
    }
   ],
   "source": [
    "tr_dataset.head()"
   ]
  },
  {
   "cell_type": "markdown",
   "id": "2892ffb4",
   "metadata": {},
   "source": [
    "## Creating Dataframe"
   ]
  },
  {
   "cell_type": "code",
   "execution_count": 3,
   "id": "2165ecb6",
   "metadata": {},
   "outputs": [],
   "source": [
    "features = ['id', 'Clump Thickness', 'UofCSize', 'UofCShape', 'Marginal Adhesion', 'SECSize', 'Bare Nuclei', 'Bland Chromatin', 'Normal Nucleoli', 'Mitoses']\n",
    "\n",
    "X_train = tr_dataset.loc[:, features]\n",
    "y_train = tr_dataset.loc[:,'Class'].values"
   ]
  },
  {
   "cell_type": "code",
   "execution_count": 4,
   "id": "44eb68a9",
   "metadata": {},
   "outputs": [
    {
     "data": {
      "text/html": [
       "<div>\n",
       "<style scoped>\n",
       "    .dataframe tbody tr th:only-of-type {\n",
       "        vertical-align: middle;\n",
       "    }\n",
       "\n",
       "    .dataframe tbody tr th {\n",
       "        vertical-align: top;\n",
       "    }\n",
       "\n",
       "    .dataframe thead th {\n",
       "        text-align: right;\n",
       "    }\n",
       "</style>\n",
       "<table border=\"1\" class=\"dataframe\">\n",
       "  <thead>\n",
       "    <tr style=\"text-align: right;\">\n",
       "      <th></th>\n",
       "      <th>id</th>\n",
       "      <th>Clump Thickness</th>\n",
       "      <th>UofCSize</th>\n",
       "      <th>UofCShape</th>\n",
       "      <th>Marginal Adhesion</th>\n",
       "      <th>SECSize</th>\n",
       "      <th>Bare Nuclei</th>\n",
       "      <th>Bland Chromatin</th>\n",
       "      <th>Normal Nucleoli</th>\n",
       "      <th>Mitoses</th>\n",
       "    </tr>\n",
       "  </thead>\n",
       "  <tbody>\n",
       "    <tr>\n",
       "      <th>337</th>\n",
       "      <td>837082</td>\n",
       "      <td>2</td>\n",
       "      <td>1</td>\n",
       "      <td>1</td>\n",
       "      <td>1</td>\n",
       "      <td>2</td>\n",
       "      <td>1</td>\n",
       "      <td>3</td>\n",
       "      <td>1</td>\n",
       "      <td>1</td>\n",
       "    </tr>\n",
       "    <tr>\n",
       "      <th>226</th>\n",
       "      <td>1231706</td>\n",
       "      <td>8</td>\n",
       "      <td>4</td>\n",
       "      <td>6</td>\n",
       "      <td>3</td>\n",
       "      <td>3</td>\n",
       "      <td>1</td>\n",
       "      <td>4</td>\n",
       "      <td>3</td>\n",
       "      <td>1</td>\n",
       "    </tr>\n",
       "    <tr>\n",
       "      <th>361</th>\n",
       "      <td>636437</td>\n",
       "      <td>1</td>\n",
       "      <td>1</td>\n",
       "      <td>1</td>\n",
       "      <td>1</td>\n",
       "      <td>2</td>\n",
       "      <td>1</td>\n",
       "      <td>1</td>\n",
       "      <td>1</td>\n",
       "      <td>1</td>\n",
       "    </tr>\n",
       "    <tr>\n",
       "      <th>381</th>\n",
       "      <td>1168278</td>\n",
       "      <td>3</td>\n",
       "      <td>1</td>\n",
       "      <td>1</td>\n",
       "      <td>1</td>\n",
       "      <td>2</td>\n",
       "      <td>1</td>\n",
       "      <td>2</td>\n",
       "      <td>1</td>\n",
       "      <td>1</td>\n",
       "    </tr>\n",
       "    <tr>\n",
       "      <th>454</th>\n",
       "      <td>1181685</td>\n",
       "      <td>1</td>\n",
       "      <td>1</td>\n",
       "      <td>2</td>\n",
       "      <td>1</td>\n",
       "      <td>2</td>\n",
       "      <td>1</td>\n",
       "      <td>2</td>\n",
       "      <td>1</td>\n",
       "      <td>1</td>\n",
       "    </tr>\n",
       "  </tbody>\n",
       "</table>\n",
       "</div>"
      ],
      "text/plain": [
       "          id  Clump Thickness  UofCSize  UofCShape  Marginal Adhesion  \\\n",
       "337   837082                2         1          1                  1   \n",
       "226  1231706                8         4          6                  3   \n",
       "361   636437                1         1          1                  1   \n",
       "381  1168278                3         1          1                  1   \n",
       "454  1181685                1         1          2                  1   \n",
       "\n",
       "     SECSize  Bare Nuclei  Bland Chromatin  Normal Nucleoli  Mitoses  \n",
       "337        2            1                3                1        1  \n",
       "226        3            1                4                3        1  \n",
       "361        2            1                1                1        1  \n",
       "381        2            1                2                1        1  \n",
       "454        2            1                2                1        1  "
      ]
     },
     "execution_count": 4,
     "metadata": {},
     "output_type": "execute_result"
    }
   ],
   "source": [
    "X_train.head()"
   ]
  },
  {
   "cell_type": "code",
   "execution_count": 5,
   "id": "d5420f26",
   "metadata": {},
   "outputs": [
    {
     "data": {
      "text/plain": [
       "(478,)"
      ]
     },
     "execution_count": 5,
     "metadata": {},
     "output_type": "execute_result"
    }
   ],
   "source": [
    "y_train.shape"
   ]
  },
  {
   "cell_type": "markdown",
   "id": "a5660a3b",
   "metadata": {},
   "source": [
    "## Hyperparameter Tuning"
   ]
  },
  {
   "cell_type": "code",
   "execution_count": 7,
   "id": "ec1912c3",
   "metadata": {},
   "outputs": [],
   "source": [
    "def print_results(results):\n",
    "    print('BEST PARAMS: {}\\n'.format(results.best_params_))\n",
    "\n",
    "    means = results.cv_results_['mean_test_score']\n",
    "    stds = results.cv_results_['std_test_score']\n",
    "    for mean, std, params in zip(means, stds, results.cv_results_['params']):\n",
    "        print('{} (+/-{}) for {}'.format(round(mean, 3), round(std * 2, 3), params))"
   ]
  },
  {
   "cell_type": "code",
   "execution_count": 22,
   "id": "43430c22",
   "metadata": {},
   "outputs": [
    {
     "name": "stdout",
     "output_type": "stream",
     "text": [
      "BEST PARAMS: {'max_depth': 4, 'n_estimators': 50}\n",
      "\n",
      "0.971 (+/-0.008) for {'max_depth': 4, 'n_estimators': 5}\n",
      "0.971 (+/-0.02) for {'max_depth': 4, 'n_estimators': 50}\n",
      "0.969 (+/-0.019) for {'max_depth': 4, 'n_estimators': 100}\n",
      "0.969 (+/-0.023) for {'max_depth': 4, 'n_estimators': 250}\n",
      "0.967 (+/-0.016) for {'max_depth': 4, 'n_estimators': 300}\n",
      "0.969 (+/-0.019) for {'max_depth': 4, 'n_estimators': 350}\n",
      "0.969 (+/-0.023) for {'max_depth': 4, 'n_estimators': 400}\n",
      "0.969 (+/-0.023) for {'max_depth': 4, 'n_estimators': 500}\n",
      "0.971 (+/-0.016) for {'max_depth': 6, 'n_estimators': 5}\n",
      "0.967 (+/-0.025) for {'max_depth': 6, 'n_estimators': 50}\n",
      "0.969 (+/-0.019) for {'max_depth': 6, 'n_estimators': 100}\n",
      "0.967 (+/-0.016) for {'max_depth': 6, 'n_estimators': 250}\n",
      "0.967 (+/-0.016) for {'max_depth': 6, 'n_estimators': 300}\n",
      "0.969 (+/-0.023) for {'max_depth': 6, 'n_estimators': 350}\n",
      "0.969 (+/-0.023) for {'max_depth': 6, 'n_estimators': 400}\n",
      "0.969 (+/-0.023) for {'max_depth': 6, 'n_estimators': 500}\n",
      "0.95 (+/-0.016) for {'max_depth': 8, 'n_estimators': 5}\n",
      "0.967 (+/-0.016) for {'max_depth': 8, 'n_estimators': 50}\n",
      "0.967 (+/-0.016) for {'max_depth': 8, 'n_estimators': 100}\n",
      "0.967 (+/-0.016) for {'max_depth': 8, 'n_estimators': 250}\n",
      "0.967 (+/-0.016) for {'max_depth': 8, 'n_estimators': 300}\n",
      "0.969 (+/-0.019) for {'max_depth': 8, 'n_estimators': 350}\n",
      "0.969 (+/-0.019) for {'max_depth': 8, 'n_estimators': 400}\n",
      "0.969 (+/-0.019) for {'max_depth': 8, 'n_estimators': 500}\n",
      "0.962 (+/-0.029) for {'max_depth': 10, 'n_estimators': 5}\n",
      "0.967 (+/-0.028) for {'max_depth': 10, 'n_estimators': 50}\n",
      "0.964 (+/-0.021) for {'max_depth': 10, 'n_estimators': 100}\n",
      "0.969 (+/-0.019) for {'max_depth': 10, 'n_estimators': 250}\n",
      "0.969 (+/-0.019) for {'max_depth': 10, 'n_estimators': 300}\n",
      "0.967 (+/-0.016) for {'max_depth': 10, 'n_estimators': 350}\n",
      "0.969 (+/-0.019) for {'max_depth': 10, 'n_estimators': 400}\n",
      "0.969 (+/-0.019) for {'max_depth': 10, 'n_estimators': 500}\n",
      "0.96 (+/-0.016) for {'max_depth': 12, 'n_estimators': 5}\n",
      "0.969 (+/-0.019) for {'max_depth': 12, 'n_estimators': 50}\n",
      "0.967 (+/-0.016) for {'max_depth': 12, 'n_estimators': 100}\n",
      "0.969 (+/-0.019) for {'max_depth': 12, 'n_estimators': 250}\n",
      "0.969 (+/-0.019) for {'max_depth': 12, 'n_estimators': 300}\n",
      "0.969 (+/-0.019) for {'max_depth': 12, 'n_estimators': 350}\n",
      "0.967 (+/-0.016) for {'max_depth': 12, 'n_estimators': 400}\n",
      "0.967 (+/-0.016) for {'max_depth': 12, 'n_estimators': 500}\n",
      "0.952 (+/-0.028) for {'max_depth': 14, 'n_estimators': 5}\n",
      "0.964 (+/-0.017) for {'max_depth': 14, 'n_estimators': 50}\n",
      "0.967 (+/-0.016) for {'max_depth': 14, 'n_estimators': 100}\n",
      "0.969 (+/-0.019) for {'max_depth': 14, 'n_estimators': 250}\n",
      "0.967 (+/-0.016) for {'max_depth': 14, 'n_estimators': 300}\n",
      "0.969 (+/-0.019) for {'max_depth': 14, 'n_estimators': 350}\n",
      "0.969 (+/-0.019) for {'max_depth': 14, 'n_estimators': 400}\n",
      "0.969 (+/-0.019) for {'max_depth': 14, 'n_estimators': 500}\n",
      "0.964 (+/-0.011) for {'max_depth': 16, 'n_estimators': 5}\n",
      "0.969 (+/-0.019) for {'max_depth': 16, 'n_estimators': 50}\n",
      "0.971 (+/-0.024) for {'max_depth': 16, 'n_estimators': 100}\n",
      "0.969 (+/-0.019) for {'max_depth': 16, 'n_estimators': 250}\n",
      "0.969 (+/-0.019) for {'max_depth': 16, 'n_estimators': 300}\n",
      "0.969 (+/-0.019) for {'max_depth': 16, 'n_estimators': 350}\n",
      "0.967 (+/-0.016) for {'max_depth': 16, 'n_estimators': 400}\n",
      "0.967 (+/-0.016) for {'max_depth': 16, 'n_estimators': 500}\n",
      "0.964 (+/-0.021) for {'max_depth': 18, 'n_estimators': 5}\n",
      "0.969 (+/-0.013) for {'max_depth': 18, 'n_estimators': 50}\n",
      "0.967 (+/-0.016) for {'max_depth': 18, 'n_estimators': 100}\n",
      "0.969 (+/-0.019) for {'max_depth': 18, 'n_estimators': 250}\n",
      "0.967 (+/-0.016) for {'max_depth': 18, 'n_estimators': 300}\n",
      "0.969 (+/-0.019) for {'max_depth': 18, 'n_estimators': 350}\n",
      "0.969 (+/-0.019) for {'max_depth': 18, 'n_estimators': 400}\n",
      "0.969 (+/-0.019) for {'max_depth': 18, 'n_estimators': 500}\n",
      "0.967 (+/-0.03) for {'max_depth': 32, 'n_estimators': 5}\n",
      "0.969 (+/-0.013) for {'max_depth': 32, 'n_estimators': 50}\n",
      "0.964 (+/-0.01) for {'max_depth': 32, 'n_estimators': 100}\n",
      "0.969 (+/-0.019) for {'max_depth': 32, 'n_estimators': 250}\n",
      "0.969 (+/-0.019) for {'max_depth': 32, 'n_estimators': 300}\n",
      "0.969 (+/-0.019) for {'max_depth': 32, 'n_estimators': 350}\n",
      "0.969 (+/-0.019) for {'max_depth': 32, 'n_estimators': 400}\n",
      "0.969 (+/-0.019) for {'max_depth': 32, 'n_estimators': 500}\n",
      "0.96 (+/-0.041) for {'max_depth': None, 'n_estimators': 5}\n",
      "0.969 (+/-0.019) for {'max_depth': None, 'n_estimators': 50}\n",
      "0.969 (+/-0.019) for {'max_depth': None, 'n_estimators': 100}\n",
      "0.969 (+/-0.019) for {'max_depth': None, 'n_estimators': 250}\n",
      "0.967 (+/-0.016) for {'max_depth': None, 'n_estimators': 300}\n",
      "0.969 (+/-0.019) for {'max_depth': None, 'n_estimators': 350}\n",
      "0.969 (+/-0.019) for {'max_depth': None, 'n_estimators': 400}\n",
      "0.969 (+/-0.019) for {'max_depth': None, 'n_estimators': 500}\n"
     ]
    }
   ],
   "source": [
    "rf = RandomForestClassifier()\n",
    "parameters = {\n",
    "    'n_estimators': [5, 50, 100, 250, 300, 350, 400, 500],\n",
    "    'max_depth': [4, 6, 8, 10, 12, 14, 16, 18, 32, None] \n",
    "}\n",
    "cv = GridSearchCV(rf, parameters, cv=5)\n",
    "cv.fit(X_train, y_train.ravel())\n",
    "\n",
    "print_results(cv)"
   ]
  },
  {
   "cell_type": "markdown",
   "id": "8f7bc15b",
   "metadata": {},
   "source": [
    "## Checking models performance on Validation dataset"
   ]
  },
  {
   "cell_type": "code",
   "execution_count": 23,
   "id": "269859d2",
   "metadata": {},
   "outputs": [],
   "source": [
    "Val_df = pd.read_csv('validation_dataset.csv', index_col=[0])"
   ]
  },
  {
   "cell_type": "code",
   "execution_count": 24,
   "id": "f588c096",
   "metadata": {},
   "outputs": [
    {
     "data": {
      "text/html": [
       "<div>\n",
       "<style scoped>\n",
       "    .dataframe tbody tr th:only-of-type {\n",
       "        vertical-align: middle;\n",
       "    }\n",
       "\n",
       "    .dataframe tbody tr th {\n",
       "        vertical-align: top;\n",
       "    }\n",
       "\n",
       "    .dataframe thead th {\n",
       "        text-align: right;\n",
       "    }\n",
       "</style>\n",
       "<table border=\"1\" class=\"dataframe\">\n",
       "  <thead>\n",
       "    <tr style=\"text-align: right;\">\n",
       "      <th></th>\n",
       "      <th>id</th>\n",
       "      <th>Clump Thickness</th>\n",
       "      <th>UofCSize</th>\n",
       "      <th>UofCShape</th>\n",
       "      <th>Marginal Adhesion</th>\n",
       "      <th>SECSize</th>\n",
       "      <th>Bare Nuclei</th>\n",
       "      <th>Bland Chromatin</th>\n",
       "      <th>Normal Nucleoli</th>\n",
       "      <th>Mitoses</th>\n",
       "      <th>Class</th>\n",
       "    </tr>\n",
       "  </thead>\n",
       "  <tbody>\n",
       "    <tr>\n",
       "      <th>668</th>\n",
       "      <td>466906</td>\n",
       "      <td>1</td>\n",
       "      <td>1</td>\n",
       "      <td>1</td>\n",
       "      <td>1</td>\n",
       "      <td>2</td>\n",
       "      <td>1</td>\n",
       "      <td>1</td>\n",
       "      <td>1</td>\n",
       "      <td>1</td>\n",
       "      <td>2</td>\n",
       "    </tr>\n",
       "    <tr>\n",
       "      <th>422</th>\n",
       "      <td>527337</td>\n",
       "      <td>4</td>\n",
       "      <td>1</td>\n",
       "      <td>1</td>\n",
       "      <td>1</td>\n",
       "      <td>2</td>\n",
       "      <td>1</td>\n",
       "      <td>1</td>\n",
       "      <td>1</td>\n",
       "      <td>1</td>\n",
       "      <td>2</td>\n",
       "    </tr>\n",
       "    <tr>\n",
       "      <th>426</th>\n",
       "      <td>677910</td>\n",
       "      <td>5</td>\n",
       "      <td>2</td>\n",
       "      <td>2</td>\n",
       "      <td>4</td>\n",
       "      <td>2</td>\n",
       "      <td>4</td>\n",
       "      <td>1</td>\n",
       "      <td>1</td>\n",
       "      <td>1</td>\n",
       "      <td>2</td>\n",
       "    </tr>\n",
       "    <tr>\n",
       "      <th>149</th>\n",
       "      <td>1190394</td>\n",
       "      <td>4</td>\n",
       "      <td>1</td>\n",
       "      <td>1</td>\n",
       "      <td>1</td>\n",
       "      <td>2</td>\n",
       "      <td>3</td>\n",
       "      <td>1</td>\n",
       "      <td>1</td>\n",
       "      <td>1</td>\n",
       "      <td>2</td>\n",
       "    </tr>\n",
       "    <tr>\n",
       "      <th>62</th>\n",
       "      <td>1116192</td>\n",
       "      <td>1</td>\n",
       "      <td>1</td>\n",
       "      <td>1</td>\n",
       "      <td>1</td>\n",
       "      <td>2</td>\n",
       "      <td>1</td>\n",
       "      <td>2</td>\n",
       "      <td>1</td>\n",
       "      <td>1</td>\n",
       "      <td>2</td>\n",
       "    </tr>\n",
       "  </tbody>\n",
       "</table>\n",
       "</div>"
      ],
      "text/plain": [
       "          id  Clump Thickness  UofCSize  UofCShape  Marginal Adhesion  \\\n",
       "668   466906                1         1          1                  1   \n",
       "422   527337                4         1          1                  1   \n",
       "426   677910                5         2          2                  4   \n",
       "149  1190394                4         1          1                  1   \n",
       "62   1116192                1         1          1                  1   \n",
       "\n",
       "     SECSize  Bare Nuclei  Bland Chromatin  Normal Nucleoli  Mitoses  Class  \n",
       "668        2            1                1                1        1      2  \n",
       "422        2            1                1                1        1      2  \n",
       "426        2            4                1                1        1      2  \n",
       "149        2            3                1                1        1      2  \n",
       "62         2            1                2                1        1      2  "
      ]
     },
     "execution_count": 24,
     "metadata": {},
     "output_type": "execute_result"
    }
   ],
   "source": [
    "Val_df.head()"
   ]
  },
  {
   "cell_type": "code",
   "execution_count": 25,
   "id": "8a64641b",
   "metadata": {},
   "outputs": [],
   "source": [
    "features = ['id', 'Clump Thickness', 'UofCSize', 'UofCShape', 'Marginal Adhesion', 'SECSize', 'Bare Nuclei', 'Bland Chromatin', 'Normal Nucleoli', 'Mitoses']\n",
    "\n",
    "X_val = Val_df.loc[:, features]\n",
    "y_val = Val_df.loc[:,'Class'].values"
   ]
  },
  {
   "cell_type": "code",
   "execution_count": 26,
   "id": "e0a4e5f8",
   "metadata": {
    "scrolled": true
   },
   "outputs": [
    {
     "name": "stdout",
     "output_type": "stream",
     "text": [
      "0.9514563106796117\n"
     ]
    }
   ],
   "source": [
    "score = cv.score(X_val, y_val)\n",
    "print(score)"
   ]
  },
  {
   "cell_type": "code",
   "execution_count": 27,
   "id": "9c197b53",
   "metadata": {},
   "outputs": [],
   "source": [
    "from sklearn import metrics\n",
    "predictions = cv.predict(X_val)"
   ]
  },
  {
   "cell_type": "code",
   "execution_count": 28,
   "id": "945ee402",
   "metadata": {},
   "outputs": [
    {
     "name": "stdout",
     "output_type": "stream",
     "text": [
      "              precision    recall  f1-score   support\n",
      "\n",
      "           2       0.98      0.94      0.96        69\n",
      "           4       0.89      0.97      0.93        34\n",
      "\n",
      "    accuracy                           0.95       103\n",
      "   macro avg       0.94      0.96      0.95       103\n",
      "weighted avg       0.95      0.95      0.95       103\n",
      "\n"
     ]
    }
   ],
   "source": [
    "print(metrics.classification_report(predictions,y_val))"
   ]
  },
  {
   "cell_type": "code",
   "execution_count": 29,
   "id": "309b3f9e",
   "metadata": {},
   "outputs": [
    {
     "data": {
      "text/plain": [
       "RandomForestClassifier(max_depth=4, n_estimators=50)"
      ]
     },
     "execution_count": 29,
     "metadata": {},
     "output_type": "execute_result"
    }
   ],
   "source": [
    "cv.best_estimator_"
   ]
  },
  {
   "cell_type": "markdown",
   "id": "af953c66",
   "metadata": {},
   "source": [
    "## Writing out the picked Model"
   ]
  },
  {
   "cell_type": "code",
   "execution_count": 16,
   "id": "46debf11",
   "metadata": {},
   "outputs": [
    {
     "data": {
      "text/plain": [
       "['cancer_bag_model.pkl']"
      ]
     },
     "execution_count": 16,
     "metadata": {},
     "output_type": "execute_result"
    }
   ],
   "source": [
    "joblib.dump(cv.best_estimator_, 'cancer_bag_model.pkl')"
   ]
  },
  {
   "cell_type": "code",
   "execution_count": null,
   "id": "5f5af046",
   "metadata": {},
   "outputs": [],
   "source": []
  }
 ],
 "metadata": {
  "kernelspec": {
   "display_name": "Python 3 (ipykernel)",
   "language": "python",
   "name": "python3"
  },
  "language_info": {
   "codemirror_mode": {
    "name": "ipython",
    "version": 3
   },
   "file_extension": ".py",
   "mimetype": "text/x-python",
   "name": "python",
   "nbconvert_exporter": "python",
   "pygments_lexer": "ipython3",
   "version": "3.9.12"
  }
 },
 "nbformat": 4,
 "nbformat_minor": 5
}
